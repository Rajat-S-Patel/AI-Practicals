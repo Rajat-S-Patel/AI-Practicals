{
  "nbformat": 4,
  "nbformat_minor": 0,
  "metadata": {
    "colab": {
      "name": "18BCE205_Practical_10.ipynb",
      "provenance": [],
      "collapsed_sections": []
    },
    "kernelspec": {
      "name": "python3",
      "display_name": "Python 3"
    },
    "language_info": {
      "name": "python"
    }
  },
  "cells": [
    {
      "cell_type": "markdown",
      "metadata": {
        "id": "VOSfqLImi-To"
      },
      "source": [
        "#Practical-10\n"
      ]
    },
    {
      "cell_type": "code",
      "metadata": {
        "colab": {
          "base_uri": "https://localhost:8080/"
        },
        "id": "2hKhdmoJK7WY",
        "outputId": "3b005a00-9df2-4061-b052-2b2d130c40dd"
      },
      "source": [
        "medicalTree = ['Do you have fever?',\n",
        "               ['Do you have cough?',\n",
        "                ['Do you have headache?',\n",
        "                 ['Do you have body ache?',\n",
        "                  ['Flu'],\n",
        "                  ['Do you have rash?',\n",
        "                   ['Do you have chills?',\n",
        "                    ['Common Cold'],\n",
        "                    ['German Measles']\n",
        "                    ],\n",
        "                   ['Chicken Pox']\n",
        "                   ]\n",
        "                  ], ['Measles']\n",
        "                 ],\n",
        "                ['Do you have swollen glands?',\n",
        "                 ['Mumps'],\n",
        "                 ['Common Cold']]\n",
        "                ],\n",
        "               ['Are you Sneezing?',\n",
        "                ['Do you have headache?',\n",
        "                 ['Flu'],\n",
        "                 ['Allergies']\n",
        "                 ],\n",
        "                ['Healthy Body']\n",
        "                ]\n",
        "               ]\n",
        "\n",
        "\n",
        "def expert(tree):\n",
        "    currentNode = tree\n",
        "    while len(currentNode) == 3:\n",
        "        [question, yesNode, noNode] = currentNode  # name the parts of the list\n",
        "        if agree(question):\n",
        "            currentNode = yesNode\n",
        "        else:\n",
        "            currentNode = noNode\n",
        "    # When the while loop is over, currentNode is a leaf with a single element.       \n",
        "    [result] = currentNode\n",
        "    print(\"You have {}\".format(result))\n",
        "\n",
        "\n",
        "def agree(question):\n",
        "    answer = input(question + ' (y/n) ')\n",
        "    return answer.startswith('y')\n",
        "\n",
        "\n",
        "def prettyStr(tree, indent='', dif='  '):\n",
        "    if len(tree) == 1:\n",
        "        return indent + repr(tree)  # repr(string) -> quoted form used in programs\n",
        "    [question, t1, t2] = tree\n",
        "    t1Str = prettyStr(t1, indent + dif)\n",
        "    t2Str = prettyStr(t2, indent + dif)\n",
        "    return '''{indent}[{question!r},\n",
        "{t1Str},\n",
        "{t2Str}\n",
        "{indent}]'''.format(**locals())\n",
        "\n",
        "\n",
        "if __name__ == '__main__':\n",
        "    tree = medicalTree\n",
        "    print(\"\\nUsing this expert system tree:\\n\")\n",
        "    print(prettyStr(tree))\n",
        "    more = True\n",
        "    while more:\n",
        "        expert(tree)\n",
        "        more = agree('\\nDo you want to use the expert system some more?')\n"
      ],
      "execution_count": 1,
      "outputs": [
        {
          "name": "stdout",
          "output_type": "stream",
          "text": [
            "\n",
            "Using this expert system tree:\n",
            "\n",
            "['Do you have fever?',\n",
            "  ['Do you have cough?',\n",
            "    ['Do you have headache?',\n",
            "      ['Do you have body ache?',\n",
            "        ['Flu'],\n",
            "        ['Do you have rash?',\n",
            "          ['Do you have chills?',\n",
            "            ['Common Cold'],\n",
            "            ['German Measles']\n",
            "          ],\n",
            "          ['Chicken Pox']\n",
            "        ]\n",
            "      ],\n",
            "      ['Measles']\n",
            "    ],\n",
            "    ['Do you have swollen glands?',\n",
            "      ['Mumps'],\n",
            "      ['Common Cold']\n",
            "    ]\n",
            "  ],\n",
            "  ['Are you Sneezing?',\n",
            "    ['Do you have headache?',\n",
            "      ['Flu'],\n",
            "      ['Allergies']\n",
            "    ],\n",
            "    ['Healthy Body']\n",
            "  ]\n",
            "]\n",
            "Do you have fever? (y/n) y\n",
            "Do you have cough? (y/n) y\n",
            "Do you have headache? (y/n) n\n",
            "You have Measles\n",
            "\n",
            "Do you want to use the expert system some more? (y/n) y\n",
            "Do you have fever? (y/n) n\n",
            "Are you Sneezing? (y/n) y\n",
            "Do you have headache? (y/n) y\n",
            "You have Flu\n",
            "\n",
            "Do you want to use the expert system some more? (y/n) n\n"
          ]
        }
      ]
    }
  ]
}